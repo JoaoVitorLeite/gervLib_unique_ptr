{
 "cells": [
  {
   "cell_type": "code",
   "execution_count": null,
   "id": "51c9e704-5a65-4a42-96b7-860c730713d7",
   "metadata": {},
   "outputs": [],
   "source": [
    "import pandas as pd\n",
    "import numpy as np\n",
    "from "
   ]
  },
  {
   "cell_type": "markdown",
   "id": "bc45140a-f927-402f-9eb7-08162be278de",
   "metadata": {},
   "source": [
    "# Individual Plot"
   ]
  },
  {
   "cell_type": "code",
   "execution_count": null,
   "id": "4b164c7e-87a2-4f58-98ab-b7443c200662",
   "metadata": {},
   "outputs": [],
   "source": [
    "def plot(basePath, index, pivot):\n",
    "    \n",
    "    "
   ]
  }
 ],
 "metadata": {
  "kernelspec": {
   "display_name": "Python 3 (ipykernel)",
   "language": "python",
   "name": "python3"
  },
  "language_info": {
   "codemirror_mode": {
    "name": "ipython",
    "version": 3
   },
   "file_extension": ".py",
   "mimetype": "text/x-python",
   "name": "python",
   "nbconvert_exporter": "python",
   "pygments_lexer": "ipython3",
   "version": "3.11.4"
  }
 },
 "nbformat": 4,
 "nbformat_minor": 5
}
