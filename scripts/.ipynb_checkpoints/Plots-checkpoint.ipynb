{
 "cells": [
  {
   "cell_type": "code",
   "execution_count": 130,
   "id": "51c9e704-5a65-4a42-96b7-860c730713d7",
   "metadata": {},
   "outputs": [],
   "source": [
    "import pandas as pd\n",
    "import seaborn as sns\n",
    "import numpy as np\n",
    "from os import listdir\n",
    "from os.path import isfile, join, isdir\n",
    "import logging\n",
    "\n",
    "logger = logging.getLogger('Plots_Log')\n",
    "logger.setLevel(logging.INFO)\n",
    "ch = logging.StreamHandler()\n",
    "ch.setLevel(logging.ERROR)\n",
    "formatter = logging.Formatter('%(asctime)s - %(name)s - %(levelname)s - %(message)s')\n",
    "ch.setFormatter(formatter)\n",
    "logger.addHandler(ch)"
   ]
  },
  {
   "cell_type": "markdown",
   "id": "bc45140a-f927-402f-9eb7-08162be278de",
   "metadata": {},
   "source": [
    "# Individual Plot"
   ]
  },
  {
   "cell_type": "code",
   "execution_count": 127,
   "id": "4b164c7e-87a2-4f58-98ab-b7443c200662",
   "metadata": {},
   "outputs": [],
   "source": [
    "def plot(basePath: str, index: str, dataset: str, pivot: str, id: int = 0, agg: str = 'mean') -> None:\n",
    "    \n",
    "    if basePath is None:\n",
    "        logger.error(\"Empty path\")\n",
    "    \n",
    "    plot_folder = join(basePath, index.upper() + '_' + dataset.upper() + '_' + pivot.upper() + '_' + str(id))\n",
    "    \n",
    "    if not isdir(plot_folder):\n",
    "        logger.error(\"Directory does not exist\")\n",
    "        \n",
    "    experimentsFiles = [join(plot_folder, f) for f in listdir(plot_folder) if 'experiment' in f]\n",
    "    \n",
    "    data = pd.DataFrame()\n",
    "    \n",
    "    for exptFile in experimentsFiles:\n",
    "        aux = pd.read_csv(exptFile)\n",
    "        data = pd.concat([data, aux], ignore_index=True)\n",
    "    \n",
    "    logger.info(f' Number of lines read: {data.shape[0]}')\n"
   ]
  },
  {
   "cell_type": "code",
   "execution_count": 129,
   "id": "36aad794-a14e-4a52-952b-fa75f3c63084",
   "metadata": {
    "tags": []
   },
   "outputs": [
    {
     "name": "stderr",
     "output_type": "stream",
     "text": [
      "INFO:Plots_Log: Number of lines read: 110020\n"
     ]
    }
   ],
   "source": [
    "plot('output_files', 'LC', 'cities', 'BPP')"
   ]
  }
 ],
 "metadata": {
  "kernelspec": {
   "display_name": "Python 3 (ipykernel)",
   "language": "python",
   "name": "python3"
  },
  "language_info": {
   "codemirror_mode": {
    "name": "ipython",
    "version": 3
   },
   "file_extension": ".py",
   "mimetype": "text/x-python",
   "name": "python",
   "nbconvert_exporter": "python",
   "pygments_lexer": "ipython3",
   "version": "3.11.4"
  }
 },
 "nbformat": 4,
 "nbformat_minor": 5
}
