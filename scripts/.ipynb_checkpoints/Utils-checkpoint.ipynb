{
 "cells": [
  {
   "cell_type": "code",
   "execution_count": 8,
   "id": "b771ab04-22ae-4dca-bffb-73323c1f6f48",
   "metadata": {
    "tags": []
   },
   "outputs": [],
   "source": [
    "from os import listdir\n",
    "import pandas as pd"
   ]
  },
  {
   "cell_type": "code",
   "execution_count": 24,
   "id": "efc988fc-0199-4941-b3ef-b1505e22587c",
   "metadata": {
    "tags": []
   },
   "outputs": [],
   "source": [
    "def merge_lid_parts(filePath):\n",
    "    df = pd.read_csv(filePath)\n",
    "    df.columns = ['lid', 'oid']\n",
    "    df = df.sort_values(by=['lid'])\n",
    "    q = df.quantile([0.00, 0.25, 0.50, 0.75, 1.00])\n",
    "    col = 'lid'\n",
    "    \n",
    "    q1 = df[((df[col]>=q[col][0.00]) & (df[col]<q[col][0.25]))]\n",
    "    q2 = df[((df[col]>=q[col][0.25]) & (df[col]<q[col][0.50]))]\n",
    "    q3 = df[((df[col]>=q[col][0.50]) & (df[col]<q[col][0.75]))]\n",
    "    q4 = df[((df[col]>=q[col][0.75]) & (df[col]<=q[col][1.00]))]\n",
    "    \n",
    "    print('----')\n",
    "    print(q1)\n",
    "    print('----')\n",
    "    print(q2)\n",
    "    print('----')\n",
    "    print(q3)\n",
    "    print('----')\n",
    "    print(q4)"
   ]
  },
  {
   "cell_type": "code",
   "execution_count": 25,
   "id": "975ec13a-a51c-4964-b724-45993c71bd7c",
   "metadata": {
    "tags": []
   },
   "outputs": [
    {
     "name": "stdout",
     "output_type": "stream",
     "text": [
      "----\n",
      "          lid   oid\n",
      "0     1.15851   989\n",
      "1     1.16561  1265\n",
      "2     1.16618   418\n",
      "1834  1.16880   146\n",
      "3     1.17251   805\n",
      "...       ...   ...\n",
      "517   1.66330   783\n",
      "518   1.66341   397\n",
      "519   1.66362    72\n",
      "520   1.66380  1020\n",
      "521   1.66396  1099\n",
      "\n",
      "[1374 rows x 2 columns]\n",
      "----\n",
      "          lid   oid\n",
      "2285  1.66422  1294\n",
      "2286  1.66422  1348\n",
      "522   1.66445  1400\n",
      "2287  1.66486   954\n",
      "523   1.66489  1414\n",
      "...       ...   ...\n",
      "4523  1.91824   289\n",
      "1004  1.91840  1156\n",
      "1005  1.91844   192\n",
      "2720  1.91869   612\n",
      "1006  1.91909  1183\n",
      "\n",
      "[1376 rows x 2 columns]\n",
      "----\n",
      "          lid   oid\n",
      "1007  1.91911   662\n",
      "4524  1.91930   258\n",
      "2721  1.91930   345\n",
      "4525  1.91957  1490\n",
      "4526  1.91966   201\n",
      "...       ...   ...\n",
      "3166  2.17794  1542\n",
      "5006  2.17804   345\n",
      "3167  2.17810   486\n",
      "5007  2.17822  1117\n",
      "5008  2.17822  1218\n",
      "\n",
      "[1375 rows x 2 columns]\n",
      "----\n",
      "          lid   oid\n",
      "3168  2.17831   779\n",
      "3169  2.17863    32\n",
      "1450  2.17903   181\n",
      "5009  2.17939  1830\n",
      "5010  2.17941   755\n",
      "...       ...   ...\n",
      "3667  4.17469   588\n",
      "5498  4.35221   326\n",
      "1832  4.37637   269\n",
      "5499  4.39010   753\n",
      "1833  5.71915   303\n",
      "\n",
      "[1375 rows x 2 columns]\n"
     ]
    }
   ],
   "source": [
    "merge_lid_parts('../data/cities_lid.csv')"
   ]
  }
 ],
 "metadata": {
  "kernelspec": {
   "display_name": "Python 3 (ipykernel)",
   "language": "python",
   "name": "python3"
  },
  "language_info": {
   "codemirror_mode": {
    "name": "ipython",
    "version": 3
   },
   "file_extension": ".py",
   "mimetype": "text/x-python",
   "name": "python",
   "nbconvert_exporter": "python",
   "pygments_lexer": "ipython3",
   "version": "3.11.4"
  }
 },
 "nbformat": 4,
 "nbformat_minor": 5
}
