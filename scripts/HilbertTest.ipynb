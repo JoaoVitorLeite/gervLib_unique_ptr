{
 "cells": [
  {
   "cell_type": "code",
   "execution_count": 1,
   "id": "e6d7eb92",
   "metadata": {
    "tags": []
   },
   "outputs": [
    {
     "data": {
      "text/plain": [
       "411257859837"
      ]
     },
     "execution_count": 1,
     "metadata": {},
     "output_type": "execute_result"
    }
   ],
   "source": [
    "from hilbertcurve.hilbertcurve import HilbertCurve\n",
    "import math \n",
    "\n",
    "p=int(math.log2(200-1)+1)\n",
    "n=10\n",
    "hilbert_curve = HilbertCurve(p, n)\n",
    "hilbert_curve.distance_from_point([1, 5, 3, 2, 4, 6, 7, 8, 9, 10])\n",
    "# distances = list(range(20))\n",
    "# points = hilbert_curve.points_from_distances(distances)\n",
    "# for point, dist in zip(points, distances):\n",
    "#     print(f'point(h={dist}) = {point}')"
   ]
  },
  {
   "cell_type": "code",
   "execution_count": null,
   "id": "b749e166-7a3d-4a09-ae14-47c61d5461f5",
   "metadata": {},
   "outputs": [],
   "source": []
  },
  {
   "cell_type": "code",
   "execution_count": null,
   "id": "a466bb52-bcf1-493b-91bf-0316bdace5f9",
   "metadata": {},
   "outputs": [],
   "source": []
  },
  {
   "cell_type": "code",
   "execution_count": null,
   "id": "b7d4ac3b-5db7-4447-b483-be7bdb403e82",
   "metadata": {},
   "outputs": [],
   "source": []
  }
 ],
 "metadata": {
  "kernelspec": {
   "display_name": "Python 3 (ipykernel)",
   "language": "python",
   "name": "python3"
  },
  "language_info": {
   "codemirror_mode": {
    "name": "ipython",
    "version": 3
   },
   "file_extension": ".py",
   "mimetype": "text/x-python",
   "name": "python",
   "nbconvert_exporter": "python",
   "pygments_lexer": "ipython3",
   "version": "3.11.4"
  }
 },
 "nbformat": 4,
 "nbformat_minor": 5
}
