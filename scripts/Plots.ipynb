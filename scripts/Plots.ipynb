{
 "cells": [
  {
   "cell_type": "code",
   "execution_count": 9,
   "id": "51c9e704-5a65-4a42-96b7-860c730713d7",
   "metadata": {},
   "outputs": [],
   "source": [
    "import pandas as pd\n",
    "import seaborn as sns\n",
    "import numpy as np\n",
    "from os import listdir\n",
    "from os.path import isfile, join, isdir\n",
    "import logging\n",
    "import colorcet as cc\n",
    "from matplotlib.ticker import ScalarFormatter\n",
    "\n",
    "logging.getLogger('matplotlib.pyplot').setLevel(logging.WARNING)\n",
    "\n",
    "logger = logging.getLogger('Plots_Log')\n",
    "logger.setLevel(logging.INFO)\n",
    "ch = logging.StreamHandler()\n",
    "ch.setLevel(logging.ERROR)\n",
    "formatter = logging.Formatter('%(asctime)s - %(name)s - %(levelname)s - %(message)s')\n",
    "ch.setFormatter(formatter)\n",
    "logger.addHandler(ch)"
   ]
  },
  {
   "cell_type": "markdown",
   "id": "72629c61-ae3d-4b06-979d-52b741fec622",
   "metadata": {},
   "source": [
    "# Palette and markers"
   ]
  },
  {
   "cell_type": "code",
   "execution_count": 3,
   "id": "2b7e22c0-6116-4779-b111-a33810b613b9",
   "metadata": {
    "tags": []
   },
   "outputs": [],
   "source": [
    "pivots = [\"BPP\", \"CONVEX\", \"FFT\", \"SSS\", \"MAXSEPARATED\", \"MAXVARIANCE\", \"PCA\", \"IS\", \"HFI\", \"WDR\", \"SELECTION\", \"KMEDOIDS\", \"RANDOM\"]\n",
    "palette = sns.color_palette(cc.glasbey, n_colors=12)\n",
    "palette_pivots = dict(zip(pivots, palette))\n",
    "markers = [\"o\", \"v\", \"^\", \"<\", \"s\", \"p\", \"P\", \"X\", \"d\", \"H\", \">\", \"*\"]"
   ]
  },
  {
   "cell_type": "markdown",
   "id": "bc45140a-f927-402f-9eb7-08162be278de",
   "metadata": {},
   "source": [
    "# Read dataframe"
   ]
  },
  {
   "cell_type": "code",
   "execution_count": 4,
   "id": "4b164c7e-87a2-4f58-98ab-b7443c200662",
   "metadata": {},
   "outputs": [],
   "source": [
    "def read_data(basePath: str, index: str, dataset: str, pivot: str, idx: int = 0) -> pd.DataFrame:\n",
    "    \n",
    "    if basePath is None:\n",
    "        logger.error(\"Empty path\")\n",
    "    \n",
    "    plot_folder = join(basePath, index.upper() + '_' + dataset.upper() + '_' + pivot.upper() + '_' + str(idx))\n",
    "    \n",
    "    if not isdir(plot_folder):\n",
    "        logger.error(\"Directory does not exist\")\n",
    "        \n",
    "    experimentsFiles = [join(plot_folder, f) for f in listdir(plot_folder) if 'experiment' in f]\n",
    "    \n",
    "    data = pd.DataFrame()\n",
    "    \n",
    "    for exptFile in experimentsFiles:\n",
    "        aux = pd.read_csv(exptFile)\n",
    "        data = pd.concat([data, aux], ignore_index=True)\n",
    "    \n",
    "    logger.info(f' Number of lines read: {data.shape[0]}')\n",
    "    \n",
    "    return data"
   ]
  },
  {
   "cell_type": "markdown",
   "id": "1d994cb8-17db-4186-adac-a1609584f639",
   "metadata": {},
   "source": [
    "# Individual plots"
   ]
  },
  {
   "cell_type": "code",
   "execution_count": 10,
   "id": "4c70b7c7-e547-46b2-978c-fbdf7a95b2c7",
   "metadata": {
    "tags": []
   },
   "outputs": [],
   "source": [
    "def plot_distance(basePath: str, index: str, dataset: str, pivot: str, agg: str = 'mean', idx: int = 0) -> None:\n",
    "    \n",
    "    if agg != 'mean' and agg != 'median':\n",
    "        logger.critical(\"Unsupported aggregation method\")\n",
    "    \n",
    "    data = read_data(basePath, index, dataset, pivot, idx) \n",
    "    data = data.drop(['expt_id', 'r', 'time', 'sys_time', 'user_time', 'prunning', 'iowrite', 'ioread'], axis=1)\n",
    "    data['k'] = pd.to_numeric(data['k'])\n",
    "    data['distCount'] = pd.to_numeric(data['distCount'])\n",
    "    k_range = list(range(data['k'].unique().min(), data['k'].unique().max()+1, 5))\n",
    "    rows_list = []\n",
    "    \n",
    "    for k in k_range:\n",
    "        aux_data = data[data['k'] == k]\n",
    "        rows_list.append({'k': k, 'distCount': aux_data.agg({'distCount': agg}).iloc[0]})\n",
    "        \n",
    "    data_agg = pd.DataFrame(rows_list)\n",
    "\n",
    "    plt = sns.lineplot(data=data_agg, x='k', y='distCount')\n",
    "    plt.set(xlabel='K')\n",
    "    plt.set(ylabel='Number of distance computations')\n",
    "    xticksList = [5, 50, 100]\n",
    "    plt.set(xticks=xticksList)\n",
    "    plt.set_xticklabels(xticksList)\n",
    "    plt.set(xlim=(5,100))\n",
    "    ax = plt.axes\n",
    "    ax.yaxis.set_major_formatter(ScalarFormatter(useMathText=True))\n",
    "    ax.ticklabel_format(style='sci', axis='y', scilimits=(0,0))\n",
    "    \n",
    "    "
   ]
  },
  {
   "cell_type": "code",
   "execution_count": 11,
   "id": "71a01a3e-a344-434f-821c-2a2bb79ca662",
   "metadata": {
    "tags": []
   },
   "outputs": [
    {
     "name": "stderr",
     "output_type": "stream",
     "text": [
      "/home/joaoleite/anaconda3/envs/gervLib_py_scripts/lib/python3.11/site-packages/seaborn/_oldcore.py:1498: FutureWarning: is_categorical_dtype is deprecated and will be removed in a future version. Use isinstance(dtype, CategoricalDtype) instead\n",
      "  if pd.api.types.is_categorical_dtype(vector):\n",
      "/home/joaoleite/anaconda3/envs/gervLib_py_scripts/lib/python3.11/site-packages/seaborn/_oldcore.py:1498: FutureWarning: is_categorical_dtype is deprecated and will be removed in a future version. Use isinstance(dtype, CategoricalDtype) instead\n",
      "  if pd.api.types.is_categorical_dtype(vector):\n",
      "/home/joaoleite/anaconda3/envs/gervLib_py_scripts/lib/python3.11/site-packages/seaborn/_oldcore.py:1119: FutureWarning: use_inf_as_na option is deprecated and will be removed in a future version. Convert inf values to NaN before operating instead.\n",
      "  with pd.option_context('mode.use_inf_as_na', True):\n",
      "/home/joaoleite/anaconda3/envs/gervLib_py_scripts/lib/python3.11/site-packages/seaborn/_oldcore.py:1119: FutureWarning: use_inf_as_na option is deprecated and will be removed in a future version. Convert inf values to NaN before operating instead.\n",
      "  with pd.option_context('mode.use_inf_as_na', True):\n"
     ]
    },
    {
     "data": {
      "image/png": "[encoded data removed]",
      "text/plain": [
       "<Figure size 640x480 with 1 Axes>"
      ]
     },
     "metadata": {},
     "output_type": "display_data"
    }
   ],
   "source": [
    "plot_distance(basePath='output_files', index='lc', dataset='cities', pivot='bpp', agg='mean')"
   ]
  }
 ],
 "metadata": {
  "kernelspec": {
   "display_name": "Python 3 (ipykernel)",
   "language": "python",
   "name": "python3"
  },
  "language_info": {
   "codemirror_mode": {
    "name": "ipython",
    "version": 3
   },
   "file_extension": ".py",
   "mimetype": "text/x-python",
   "name": "python",
   "nbconvert_exporter": "python",
   "pygments_lexer": "ipython3",
   "version": "3.11.4"
  }
 },
 "nbformat": 4,
 "nbformat_minor": 5
}
